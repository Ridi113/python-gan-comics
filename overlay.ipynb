{
 "cells": [
  {
   "cell_type": "code",
   "execution_count": 7,
   "metadata": {},
   "outputs": [],
   "source": [
    "from PIL import Image\n",
    "\n",
    "from PIL import Image\n",
    "im = Image.open(\"bg.jpg\")\n",
    "im.rotate(45).show()"
   ]
  },
  {
   "cell_type": "code",
   "execution_count": 8,
   "metadata": {},
   "outputs": [],
   "source": [
    "from PIL import Image\n",
    "im = Image.new(\"RGB\", (512, 512), \"white\")"
   ]
  },
  {
   "cell_type": "code",
   "execution_count": null,
   "metadata": {},
   "outputs": [],
   "source": [
    "from PIL import Image\n",
    "\n",
    "import numpy as np\n",
    "\n",
    "name = input(\"Enter a name: \")\n",
    "\n",
    "if name == \"sad\":\n",
    "    img = Image.open(\"sad2.png\")\n",
    "    background = Image.open(\"face.png\")\n",
    "\n",
    "    background.paste(img, (10, 0), img)\n",
    "    background.save('sad_face.png',\"PNG\")\n",
    "    \n",
    "if name == \"happy\":\n",
    "    img = Image.open(\"happy2.png\")\n",
    "    background = Image.open(\"face.png\")\n",
    "\n",
    "    background.paste(img, (10, 0), img)\n",
    "    background.save('happy_face.png',\"PNG\")\n",
    "\n",
    "if name == \"angry\":\n",
    "    img = Image.open(\"anger2.png\")\n",
    "    background = Image.open(\"face.png\")\n",
    "\n",
    "    background.paste(img, (10, 0), img)\n",
    "    background.save('angry_face.png',\"PNG\")    \n",
    "\n",
    "if name == \"fear\":\n",
    "    img = Image.open(\"fear2.png\")\n",
    "    background = Image.open(\"face.png\")\n",
    "\n",
    "    background.paste(img, (10, 0), img)\n",
    "    background.save('scared_face.png',\"PNG\")\n",
    "    \n",
    "if name == \"surprised\":\n",
    "    img = Image.open(\"suprised2.png\")\n",
    "    background = Image.open(\"face.png\")\n",
    "\n",
    "    background.paste(img, (10, 0), img)\n",
    "    background.save('scared_face.png',\"PNG\")"
   ]
  },
  {
   "cell_type": "code",
   "execution_count": null,
   "metadata": {},
   "outputs": [],
   "source": []
  }
 ],
 "metadata": {
  "kernelspec": {
   "display_name": "Python 3",
   "language": "python",
   "name": "python3"
  },
  "language_info": {
   "codemirror_mode": {
    "name": "ipython",
    "version": 3
   },
   "file_extension": ".py",
   "mimetype": "text/x-python",
   "name": "python",
   "nbconvert_exporter": "python",
   "pygments_lexer": "ipython3",
   "version": "3.7.4"
  }
 },
 "nbformat": 4,
 "nbformat_minor": 2
}
